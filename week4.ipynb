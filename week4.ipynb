{
  "cells": [
    {
      "cell_type": "markdown",
      "metadata": {
        "id": "view-in-github",
        "colab_type": "text"
      },
      "source": [
        "<a href=\"https://colab.research.google.com/github/syc113/syc113/blob/main/week4.ipynb\" target=\"_parent\"><img src=\"https://colab.research.google.com/assets/colab-badge.svg\" alt=\"Open In Colab\"/></a>"
      ]
    },
    {
      "cell_type": "markdown",
      "source": [
        "#Import packages"
      ],
      "metadata": {
        "id": "2ZgrAF8M_AYz"
      }
    },
    {
      "cell_type": "code",
      "source": [
        "from sklearn.datasets import load_breast_cancer\n",
        "from sklearn.model_selection import train_test_split\n",
        "from sklearn.naive_bayes import GaussianNB\n",
        "from sklearn.metrics import confusion_matrix\n",
        "from sklearn.metrics import classification_report\n",
        "import pandas as pd\n",
        "import seaborn as sns\n",
        "from sklearn.model_selection import KFold\n",
        "from sklearn.model_selection import cross_val_score\n",
        "from sklearn.neighbors import KNeighborsClassifier\n",
        "from sklearn.linear_model import LogisticRegression\n",
        "from sklearn.svm import SVC"
      ],
      "metadata": {
        "id": "qbupuaZq81Wk"
      },
      "execution_count": 1,
      "outputs": []
    },
    {
      "cell_type": "markdown",
      "metadata": {
        "id": "H1cYbBrYLFsi"
      },
      "source": [
        "## Loading the Dataset"
      ]
    },
    {
      "cell_type": "code",
      "execution_count": 2,
      "metadata": {
        "id": "PH2GibQxCYyT"
      },
      "outputs": [],
      "source": [
        "breast_cancer = load_breast_cancer()"
      ]
    },
    {
      "cell_type": "markdown",
      "metadata": {
        "id": "uwH4xwvFdK7J"
      },
      "source": [
        "# Checking Sizes"
      ]
    },
    {
      "cell_type": "code",
      "execution_count": 3,
      "metadata": {
        "colab": {
          "base_uri": "https://localhost:8080/",
          "height": 0
        },
        "id": "i-k9j4WyLx_d",
        "outputId": "a5885b17-f5e1-43ae-dfdd-f3b26226d83f"
      },
      "outputs": [
        {
          "output_type": "stream",
          "name": "stdout",
          "text": [
            "(569, 30)\n",
            "(569,)\n",
            "['malignant' 'benign']\n",
            "['mean radius' 'mean texture' 'mean perimeter' 'mean area'\n",
            " 'mean smoothness' 'mean compactness' 'mean concavity'\n",
            " 'mean concave points' 'mean symmetry' 'mean fractal dimension'\n",
            " 'radius error' 'texture error' 'perimeter error' 'area error'\n",
            " 'smoothness error' 'compactness error' 'concavity error'\n",
            " 'concave points error' 'symmetry error' 'fractal dimension error'\n",
            " 'worst radius' 'worst texture' 'worst perimeter' 'worst area'\n",
            " 'worst smoothness' 'worst compactness' 'worst concavity'\n",
            " 'worst concave points' 'worst symmetry' 'worst fractal dimension']\n"
          ]
        }
      ],
      "source": [
        "print(breast_cancer.data.shape)\n",
        "\n",
        "print(breast_cancer.target.shape)\n",
        "\n",
        "print(breast_cancer.target_names)\n",
        "\n",
        "print(breast_cancer.feature_names)"
      ]
    },
    {
      "cell_type": "markdown",
      "metadata": {
        "id": "wQ-OA5awZBJo"
      },
      "source": [
        "#Splitting the Data for Training and Testing"
      ]
    },
    {
      "cell_type": "code",
      "execution_count": 4,
      "metadata": {
        "id": "4PzjYVTeZBgC"
      },
      "outputs": [],
      "source": [
        "X_train,X_test, y_train,y_test=train_test_split(breast_cancer.data,breast_cancer.target,random_state=0)"
      ]
    },
    {
      "cell_type": "markdown",
      "metadata": {
        "id": "vpxU2oJ4aRpp"
      },
      "source": [
        "#Training and Testing Set Sizes"
      ]
    },
    {
      "cell_type": "code",
      "execution_count": 5,
      "metadata": {
        "colab": {
          "base_uri": "https://localhost:8080/",
          "height": 0
        },
        "id": "WOb-uZyvZiJv",
        "outputId": "7bc1052c-9ba6-4e81-8924-730040f5f631"
      },
      "outputs": [
        {
          "output_type": "stream",
          "name": "stdout",
          "text": [
            "(426, 30)\n"
          ]
        }
      ],
      "source": [
        "print(X_train.shape)"
      ]
    },
    {
      "cell_type": "code",
      "execution_count": 6,
      "metadata": {
        "colab": {
          "base_uri": "https://localhost:8080/",
          "height": 0
        },
        "id": "AoAOLoN7aHBp",
        "outputId": "5aeb77a9-caaa-41dc-dcdd-76a675ea74bd"
      },
      "outputs": [
        {
          "output_type": "stream",
          "name": "stdout",
          "text": [
            "(143, 30)\n"
          ]
        }
      ],
      "source": [
        "print(X_test.shape)"
      ]
    },
    {
      "cell_type": "markdown",
      "metadata": {
        "id": "8qVla7HweMZR"
      },
      "source": [
        "# Model"
      ]
    },
    {
      "cell_type": "code",
      "execution_count": 7,
      "metadata": {
        "id": "C-rc0s4zeOZK"
      },
      "outputs": [],
      "source": [
        "naive_bayes=GaussianNB()"
      ]
    },
    {
      "cell_type": "markdown",
      "metadata": {
        "id": "2_bUDFpvfCcp"
      },
      "source": [
        "# Training the Model"
      ]
    },
    {
      "cell_type": "code",
      "execution_count": 8,
      "metadata": {
        "colab": {
          "base_uri": "https://localhost:8080/",
          "height": 0
        },
        "id": "YszTaHTafEfe",
        "outputId": "81e94060-d8a7-458f-96c4-de355c140cc0"
      },
      "outputs": [
        {
          "output_type": "execute_result",
          "data": {
            "text/plain": [
              "GaussianNB()"
            ]
          },
          "metadata": {},
          "execution_count": 8
        }
      ],
      "source": [
        "naive_bayes.fit(X_train, y_train)"
      ]
    },
    {
      "cell_type": "markdown",
      "metadata": {
        "id": "ef3x7cVOfG8i"
      },
      "source": [
        "# Predicting"
      ]
    },
    {
      "cell_type": "code",
      "execution_count": 9,
      "metadata": {
        "id": "hiPF5NmofIRI"
      },
      "outputs": [],
      "source": [
        "predicted=naive_bayes.predict(X_test)\n",
        "expected=y_test"
      ]
    },
    {
      "cell_type": "code",
      "execution_count": 10,
      "metadata": {
        "colab": {
          "base_uri": "https://localhost:8080/",
          "height": 0
        },
        "id": "4TAaswhvgk-n",
        "outputId": "d6a0b24c-7dd2-4ee2-e952-03bf3a225d26"
      },
      "outputs": [
        {
          "output_type": "execute_result",
          "data": {
            "text/plain": [
              "array([0, 1, 1, 1, 1, 1, 1, 1, 1, 1, 0, 1, 1, 0, 0, 0, 1, 0, 0, 0])"
            ]
          },
          "metadata": {},
          "execution_count": 10
        }
      ],
      "source": [
        "predicted[:20]"
      ]
    },
    {
      "cell_type": "code",
      "execution_count": 11,
      "metadata": {
        "colab": {
          "base_uri": "https://localhost:8080/",
          "height": 0
        },
        "id": "rLfKKumBgmPQ",
        "outputId": "7970018d-b21a-4770-c770-581a05c9d77a"
      },
      "outputs": [
        {
          "output_type": "execute_result",
          "data": {
            "text/plain": [
              "array([0, 1, 1, 1, 1, 1, 1, 1, 1, 1, 1, 1, 1, 1, 1, 0, 1, 0, 0, 0])"
            ]
          },
          "metadata": {},
          "execution_count": 11
        }
      ],
      "source": [
        "expected[:20]"
      ]
    },
    {
      "cell_type": "code",
      "execution_count": 12,
      "metadata": {
        "colab": {
          "base_uri": "https://localhost:8080/",
          "height": 0
        },
        "id": "7BhLA9NpgrzM",
        "outputId": "801a2360-239f-4c6f-9bef-be96c218dc89"
      },
      "outputs": [
        {
          "output_type": "stream",
          "name": "stdout",
          "text": [
            "[(0, 1), (0, 1), (0, 1), (1, 0), (0, 1), (1, 0), (1, 0), (1, 0), (1, 0)]\n"
          ]
        }
      ],
      "source": [
        "wrong=[(p, e) for (p, e) in zip(predicted, expected) if p != e]\n",
        "print(wrong)"
      ]
    },
    {
      "cell_type": "markdown",
      "metadata": {
        "id": "zffTXWDLWKjs"
      },
      "source": [
        "# Estimator Method score"
      ]
    },
    {
      "cell_type": "code",
      "execution_count": 13,
      "metadata": {
        "colab": {
          "base_uri": "https://localhost:8080/",
          "height": 0
        },
        "id": "dkfAWxdRWMpG",
        "outputId": "52fcf63d-297d-482e-8c5a-1ac57bf86e16"
      },
      "outputs": [
        {
          "output_type": "stream",
          "name": "stdout",
          "text": [
            "93.71%\n"
          ]
        }
      ],
      "source": [
        "print(f'{naive_bayes.score(X_test, y_test):.2%}')"
      ]
    },
    {
      "cell_type": "markdown",
      "metadata": {
        "id": "Ylop2YWEhIRg"
      },
      "source": [
        "# Confusion Matrix"
      ]
    },
    {
      "cell_type": "code",
      "execution_count": 14,
      "metadata": {
        "colab": {
          "base_uri": "https://localhost:8080/",
          "height": 0
        },
        "id": "ygbl0DU7hJtA",
        "outputId": "b54e9f56-bbf8-4f3a-991b-8cfe9500eb18"
      },
      "outputs": [
        {
          "output_type": "stream",
          "name": "stdout",
          "text": [
            "[[48  5]\n",
            " [ 4 86]]\n"
          ]
        }
      ],
      "source": [
        "confusion = confusion_matrix(y_true=expected, y_pred=predicted)\n",
        "print(confusion)"
      ]
    },
    {
      "cell_type": "markdown",
      "metadata": {
        "id": "CoxNmCWaqb1H"
      },
      "source": [
        "# Classification Report"
      ]
    },
    {
      "cell_type": "code",
      "execution_count": 15,
      "metadata": {
        "colab": {
          "base_uri": "https://localhost:8080/",
          "height": 0
        },
        "id": "NIXwSQ7Dqc40",
        "outputId": "26357273-c199-4190-98cb-17e0e92f0409"
      },
      "outputs": [
        {
          "output_type": "stream",
          "name": "stdout",
          "text": [
            "              precision    recall  f1-score   support\n",
            "\n",
            "   malignant       0.92      0.91      0.91        53\n",
            "      benign       0.95      0.96      0.95        90\n",
            "\n",
            "    accuracy                           0.94       143\n",
            "   macro avg       0.93      0.93      0.93       143\n",
            "weighted avg       0.94      0.94      0.94       143\n",
            "\n"
          ]
        }
      ],
      "source": [
        "names = breast_cancer.target_names\n",
        "print(classification_report(expected, predicted, target_names=names))"
      ]
    },
    {
      "cell_type": "markdown",
      "metadata": {
        "id": "ydA9JfsTrlMK"
      },
      "source": [
        "# Visualizing the Confusion Matrix"
      ]
    },
    {
      "cell_type": "code",
      "execution_count": 16,
      "metadata": {
        "colab": {
          "base_uri": "https://localhost:8080/",
          "height": 265
        },
        "id": "oPRhk2aprmZg",
        "outputId": "161c7cf2-0f67-44fc-e3c8-26fc2c5ebe40"
      },
      "outputs": [
        {
          "output_type": "display_data",
          "data": {
            "text/plain": [
              "<Figure size 432x288 with 2 Axes>"
            ],
            "image/png": "[encoded data removed]"
          },
          "metadata": {
            "needs_background": "light"
          }
        }
      ],
      "source": [
        "confusion_df = pd.DataFrame(confusion, index=range(2), columns=range(2))\n",
        "axes = sns.heatmap(confusion_df, annot=True, cmap='nipy_spectral_r')"
      ]
    },
    {
      "cell_type": "markdown",
      "metadata": {
        "id": "R16CuuxxsacW"
      },
      "source": [
        "# K-Fold Cross-Validation"
      ]
    },
    {
      "cell_type": "code",
      "execution_count": 17,
      "metadata": {
        "colab": {
          "base_uri": "https://localhost:8080/",
          "height": 0
        },
        "id": "i6bNPnGHscZm",
        "outputId": "439289da-3787-4862-f86a-1de1188ee0be"
      },
      "outputs": [
        {
          "output_type": "stream",
          "name": "stdout",
          "text": [
            "[0.96491228 0.9122807  0.94736842 0.89473684 0.96491228 0.94736842\n",
            " 0.96491228 0.89473684 0.96491228 0.92857143]\n"
          ]
        }
      ],
      "source": [
        "kfold = KFold(n_splits=10, random_state=11, shuffle=True)\n",
        "scores = cross_val_score(estimator=naive_bayes, X=breast_cancer.data, y=breast_cancer.target, cv=kfold)\n",
        "print(scores)"
      ]
    },
    {
      "cell_type": "code",
      "execution_count": 18,
      "metadata": {
        "colab": {
          "base_uri": "https://localhost:8080/",
          "height": 0
        },
        "id": "DGC4vT0ftY45",
        "outputId": "fbe6958e-62a8-4fe0-c296-190d7207e9f7"
      },
      "outputs": [
        {
          "output_type": "stream",
          "name": "stdout",
          "text": [
            "Mean accuracy: 93.85%\n",
            "Accuracy standard deviation: 2.75%\n"
          ]
        }
      ],
      "source": [
        "print(f'Mean accuracy: {scores.mean():.2%}')\n",
        "print(f'Accuracy standard deviation: {scores.std():.2%}')"
      ]
    },
    {
      "cell_type": "markdown",
      "metadata": {
        "id": "FIn4CI73thRp"
      },
      "source": [
        "# Find the best one"
      ]
    },
    {
      "cell_type": "code",
      "execution_count": 19,
      "metadata": {
        "colab": {
          "base_uri": "https://localhost:8080/",
          "height": 0
        },
        "id": "rRd6434etiic",
        "outputId": "b2921b0e-a6bf-4d80-883e-f61b8e1b6cef"
      },
      "outputs": [
        {
          "output_type": "stream",
          "name": "stdout",
          "text": [
            "          GaussianNB:mean accuracy=93.85%; standard deviation=2.75%\n",
            "KNeighborsClassifier:mean accuracy=92.79%; standard deviation=2.01%\n",
            "  LogisticRegression:mean accuracy=95.08%; standard deviation=3.02%\n",
            "                 SVC:mean accuracy=91.92%; standard deviation=3.52%\n"
          ]
        }
      ],
      "source": [
        "estimators={\n",
        "    'GaussianNB': naive_bayes,\n",
        "    'KNeighborsClassifier': KNeighborsClassifier(), \n",
        "    'LogisticRegression': LogisticRegression(solver='lbfgs',multi_class='ovr',max_iter=10000),\n",
        "    'SVC': SVC(gamma='scale')\n",
        "}\n",
        "for estimator_name,estimator_object in estimators.items():\n",
        "    kfold=KFold(n_splits=10,random_state=11,shuffle=True)\n",
        "    scores=cross_val_score(estimator=estimator_object,X=breast_cancer.data,y=breast_cancer.target,cv=kfold)\n",
        "    print(f'{estimator_name:>20}:'+f'mean accuracy={scores.mean():.2%}; '+f'standard deviation={scores.std():.2%}')"
      ]
    }
  ],
  "metadata": {
    "colab": {
      "collapsed_sections": [],
      "name": "week4.ipynb",
      "provenance": [],
      "include_colab_link": true
    },
    "kernelspec": {
      "display_name": "Python 3 (ipykernel)",
      "language": "python",
      "name": "python3"
    },
    "language_info": {
      "codemirror_mode": {
        "name": "ipython",
        "version": 3
      },
      "file_extension": ".py",
      "mimetype": "text/x-python",
      "name": "python",
      "nbconvert_exporter": "python",
      "pygments_lexer": "ipython3",
      "version": "3.9.7"
    }
  },
  "nbformat": 4,
  "nbformat_minor": 0
}