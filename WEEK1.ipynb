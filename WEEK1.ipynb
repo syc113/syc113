{
  "nbformat": 4,
  "nbformat_minor": 0,
  "metadata": {
    "colab": {
      "name": "WEEK1.ipynb",
      "provenance": [],
      "include_colab_link": true
    },
    "kernelspec": {
      "name": "python3",
      "display_name": "Python 3"
    },
    "language_info": {
      "name": "python"
    }
  },
  "cells": [
    {
      "cell_type": "markdown",
      "metadata": {
        "id": "view-in-github",
        "colab_type": "text"
      },
      "source": [
        "<a href=\"https://colab.research.google.com/github/syc113/syc113/blob/main/WEEK1.ipynb\" target=\"_parent\"><img src=\"https://colab.research.google.com/assets/colab-badge.svg\" alt=\"Open In Colab\"/></a>"
      ]
    },
    {
      "cell_type": "markdown",
      "source": [
        "## (a)"
      ],
      "metadata": {
        "id": "sBbVdKlkN-cY"
      }
    },
    {
      "cell_type": "code",
      "source": [
        "import pandas as pd"
      ],
      "metadata": {
        "id": "PH2GibQxCYyT"
      },
      "execution_count": 1,
      "outputs": []
    },
    {
      "cell_type": "markdown",
      "source": [
        "## (b),(c),(d)"
      ],
      "metadata": {
        "id": "KIxuw1TwOKtl"
      }
    },
    {
      "cell_type": "code",
      "source": [
        "df_diamonds = pd.read_csv(\"https://raw.githubusercontent.com/ChrisG60/Diams/master/diamonds.csv\", index_col=0)\n",
        "df_diamonds.head(7)\n",
        "df_diamonds.tail(7)"
      ],
      "metadata": {
        "colab": {
          "base_uri": "https://localhost:8080/",
          "height": 269
        },
        "id": "ysUP-iefC2U6",
        "outputId": "9b213393-e091-4ad6-fcff-e6631d7ff8a6"
      },
      "execution_count": 2,
      "outputs": [
        {
          "output_type": "execute_result",
          "data": {
            "text/plain": [
              "       carat        cut color clarity  depth  table  price     x     y     z\n",
              "53934   0.70  Very Good     E     VS2   61.2   59.0   2757  5.69  5.72  3.49\n",
              "53935   0.72    Premium     D     SI1   62.7   59.0   2757  5.69  5.73  3.58\n",
              "53936   0.72      Ideal     D     SI1   60.8   57.0   2757  5.75  5.76  3.50\n",
              "53937   0.72       Good     D     SI1   63.1   55.0   2757  5.69  5.75  3.61\n",
              "53938   0.70  Very Good     D     SI1   62.8   60.0   2757  5.66  5.68  3.56\n",
              "53939   0.86    Premium     H     SI2   61.0   58.0   2757  6.15  6.12  3.74\n",
              "53940   0.75      Ideal     D     SI2   62.2   55.0   2757  5.83  5.87  3.64"
            ],
            "text/html": [
              "\n",
              "  <div id=\"df-963dfc57-48b5-4139-a56e-6ffd9b0e1ae4\">\n",
              "    <div class=\"colab-df-container\">\n",
              "      <div>\n",
              "<style scoped>\n",
              "    .dataframe tbody tr th:only-of-type {\n",
              "        vertical-align: middle;\n",
              "    }\n",
              "\n",
              "    .dataframe tbody tr th {\n",
              "        vertical-align: top;\n",
              "    }\n",
              "\n",
              "    .dataframe thead th {\n",
              "        text-align: right;\n",
              "    }\n",
              "</style>\n",
              "<table border=\"1\" class=\"dataframe\">\n",
              "  <thead>\n",
              "    <tr style=\"text-align: right;\">\n",
              "      <th></th>\n",
              "      <th>carat</th>\n",
              "      <th>cut</th>\n",
              "      <th>color</th>\n",
              "      <th>clarity</th>\n",
              "      <th>depth</th>\n",
              "      <th>table</th>\n",
              "      <th>price</th>\n",
              "      <th>x</th>\n",
              "      <th>y</th>\n",
              "      <th>z</th>\n",
              "    </tr>\n",
              "  </thead>\n",
              "  <tbody>\n",
              "    <tr>\n",
              "      <th>53934</th>\n",
              "      <td>0.70</td>\n",
              "      <td>Very Good</td>\n",
              "      <td>E</td>\n",
              "      <td>VS2</td>\n",
              "      <td>61.2</td>\n",
              "      <td>59.0</td>\n",
              "      <td>2757</td>\n",
              "      <td>5.69</td>\n",
              "      <td>5.72</td>\n",
              "      <td>3.49</td>\n",
              "    </tr>\n",
              "    <tr>\n",
              "      <th>53935</th>\n",
              "      <td>0.72</td>\n",
              "      <td>Premium</td>\n",
              "      <td>D</td>\n",
              "      <td>SI1</td>\n",
              "      <td>62.7</td>\n",
              "      <td>59.0</td>\n",
              "      <td>2757</td>\n",
              "      <td>5.69</td>\n",
              "      <td>5.73</td>\n",
              "      <td>3.58</td>\n",
              "    </tr>\n",
              "    <tr>\n",
              "      <th>53936</th>\n",
              "      <td>0.72</td>\n",
              "      <td>Ideal</td>\n",
              "      <td>D</td>\n",
              "      <td>SI1</td>\n",
              "      <td>60.8</td>\n",
              "      <td>57.0</td>\n",
              "      <td>2757</td>\n",
              "      <td>5.75</td>\n",
              "      <td>5.76</td>\n",
              "      <td>3.50</td>\n",
              "    </tr>\n",
              "    <tr>\n",
              "      <th>53937</th>\n",
              "      <td>0.72</td>\n",
              "      <td>Good</td>\n",
              "      <td>D</td>\n",
              "      <td>SI1</td>\n",
              "      <td>63.1</td>\n",
              "      <td>55.0</td>\n",
              "      <td>2757</td>\n",
              "      <td>5.69</td>\n",
              "      <td>5.75</td>\n",
              "      <td>3.61</td>\n",
              "    </tr>\n",
              "    <tr>\n",
              "      <th>53938</th>\n",
              "      <td>0.70</td>\n",
              "      <td>Very Good</td>\n",
              "      <td>D</td>\n",
              "      <td>SI1</td>\n",
              "      <td>62.8</td>\n",
              "      <td>60.0</td>\n",
              "      <td>2757</td>\n",
              "      <td>5.66</td>\n",
              "      <td>5.68</td>\n",
              "      <td>3.56</td>\n",
              "    </tr>\n",
              "    <tr>\n",
              "      <th>53939</th>\n",
              "      <td>0.86</td>\n",
              "      <td>Premium</td>\n",
              "      <td>H</td>\n",
              "      <td>SI2</td>\n",
              "      <td>61.0</td>\n",
              "      <td>58.0</td>\n",
              "      <td>2757</td>\n",
              "      <td>6.15</td>\n",
              "      <td>6.12</td>\n",
              "      <td>3.74</td>\n",
              "    </tr>\n",
              "    <tr>\n",
              "      <th>53940</th>\n",
              "      <td>0.75</td>\n",
              "      <td>Ideal</td>\n",
              "      <td>D</td>\n",
              "      <td>SI2</td>\n",
              "      <td>62.2</td>\n",
              "      <td>55.0</td>\n",
              "      <td>2757</td>\n",
              "      <td>5.83</td>\n",
              "      <td>5.87</td>\n",
              "      <td>3.64</td>\n",
              "    </tr>\n",
              "  </tbody>\n",
              "</table>\n",
              "</div>\n",
              "      <button class=\"colab-df-convert\" onclick=\"convertToInteractive('df-963dfc57-48b5-4139-a56e-6ffd9b0e1ae4')\"\n",
              "              title=\"Convert this dataframe to an interactive table.\"\n",
              "              style=\"display:none;\">\n",
              "        \n",
              "  <svg xmlns=\"http://www.w3.org/2000/svg\" height=\"24px\"viewBox=\"0 0 24 24\"\n",
              "       width=\"24px\">\n",
              "    <path d=\"M0 0h24v24H0V0z\" fill=\"none\"/>\n",
              "    <path d=\"M18.56 5.44l.94 2.06.94-2.06 2.06-.94-2.06-.94-.94-2.06-.94 2.06-2.06.94zm-11 1L8.5 8.5l.94-2.06 2.06-.94-2.06-.94L8.5 2.5l-.94 2.06-2.06.94zm10 10l.94 2.06.94-2.06 2.06-.94-2.06-.94-.94-2.06-.94 2.06-2.06.94z\"/><path d=\"M17.41 7.96l-1.37-1.37c-.4-.4-.92-.59-1.43-.59-.52 0-1.04.2-1.43.59L10.3 9.45l-7.72 7.72c-.78.78-.78 2.05 0 2.83L4 21.41c.39.39.9.59 1.41.59.51 0 1.02-.2 1.41-.59l7.78-7.78 2.81-2.81c.8-.78.8-2.07 0-2.86zM5.41 20L4 18.59l7.72-7.72 1.47 1.35L5.41 20z\"/>\n",
              "  </svg>\n",
              "      </button>\n",
              "      \n",
              "  <style>\n",
              "    .colab-df-container {\n",
              "      display:flex;\n",
              "      flex-wrap:wrap;\n",
              "      gap: 12px;\n",
              "    }\n",
              "\n",
              "    .colab-df-convert {\n",
              "      background-color: #E8F0FE;\n",
              "      border: none;\n",
              "      border-radius: 50%;\n",
              "      cursor: pointer;\n",
              "      display: none;\n",
              "      fill: #1967D2;\n",
              "      height: 32px;\n",
              "      padding: 0 0 0 0;\n",
              "      width: 32px;\n",
              "    }\n",
              "\n",
              "    .colab-df-convert:hover {\n",
              "      background-color: #E2EBFA;\n",
              "      box-shadow: 0px 1px 2px rgba(60, 64, 67, 0.3), 0px 1px 3px 1px rgba(60, 64, 67, 0.15);\n",
              "      fill: #174EA6;\n",
              "    }\n",
              "\n",
              "    [theme=dark] .colab-df-convert {\n",
              "      background-color: #3B4455;\n",
              "      fill: #D2E3FC;\n",
              "    }\n",
              "\n",
              "    [theme=dark] .colab-df-convert:hover {\n",
              "      background-color: #434B5C;\n",
              "      box-shadow: 0px 1px 3px 1px rgba(0, 0, 0, 0.15);\n",
              "      filter: drop-shadow(0px 1px 2px rgba(0, 0, 0, 0.3));\n",
              "      fill: #FFFFFF;\n",
              "    }\n",
              "  </style>\n",
              "\n",
              "      <script>\n",
              "        const buttonEl =\n",
              "          document.querySelector('#df-963dfc57-48b5-4139-a56e-6ffd9b0e1ae4 button.colab-df-convert');\n",
              "        buttonEl.style.display =\n",
              "          google.colab.kernel.accessAllowed ? 'block' : 'none';\n",
              "\n",
              "        async function convertToInteractive(key) {\n",
              "          const element = document.querySelector('#df-963dfc57-48b5-4139-a56e-6ffd9b0e1ae4');\n",
              "          const dataTable =\n",
              "            await google.colab.kernel.invokeFunction('convertToInteractive',\n",
              "                                                     [key], {});\n",
              "          if (!dataTable) return;\n",
              "\n",
              "          const docLinkHtml = 'Like what you see? Visit the ' +\n",
              "            '<a target=\"_blank\" href=https://colab.research.google.com/notebooks/data_table.ipynb>data table notebook</a>'\n",
              "            + ' to learn more about interactive tables.';\n",
              "          element.innerHTML = '';\n",
              "          dataTable['output_type'] = 'display_data';\n",
              "          await google.colab.output.renderOutput(dataTable, element);\n",
              "          const docLink = document.createElement('div');\n",
              "          docLink.innerHTML = docLinkHtml;\n",
              "          element.appendChild(docLink);\n",
              "        }\n",
              "      </script>\n",
              "    </div>\n",
              "  </div>\n",
              "  "
            ]
          },
          "metadata": {},
          "execution_count": 2
        }
      ]
    },
    {
      "cell_type": "markdown",
      "source": [
        "## (e)"
      ],
      "metadata": {
        "id": "rO3RQJi7OORT"
      }
    },
    {
      "cell_type": "code",
      "source": [
        "df_diamonds.describe()"
      ],
      "metadata": {
        "colab": {
          "base_uri": "https://localhost:8080/",
          "height": 300
        },
        "id": "23yw1H2PEc3o",
        "outputId": "fd578ab9-011e-4f25-d8c7-e5bada81e407"
      },
      "execution_count": 3,
      "outputs": [
        {
          "output_type": "execute_result",
          "data": {
            "text/plain": [
              "              carat         depth         table         price             x  \\\n",
              "count  53940.000000  53940.000000  53940.000000  53940.000000  53940.000000   \n",
              "mean       0.797940     61.749405     57.457184   3932.799722      5.731157   \n",
              "std        0.474011      1.432621      2.234491   3989.439738      1.121761   \n",
              "min        0.200000     43.000000     43.000000    326.000000      0.000000   \n",
              "25%        0.400000     61.000000     56.000000    950.000000      4.710000   \n",
              "50%        0.700000     61.800000     57.000000   2401.000000      5.700000   \n",
              "75%        1.040000     62.500000     59.000000   5324.250000      6.540000   \n",
              "max        5.010000     79.000000     95.000000  18823.000000     10.740000   \n",
              "\n",
              "                  y             z  \n",
              "count  53940.000000  53940.000000  \n",
              "mean       5.734526      3.538734  \n",
              "std        1.142135      0.705699  \n",
              "min        0.000000      0.000000  \n",
              "25%        4.720000      2.910000  \n",
              "50%        5.710000      3.530000  \n",
              "75%        6.540000      4.040000  \n",
              "max       58.900000     31.800000  "
            ],
            "text/html": [
              "\n",
              "  <div id=\"df-40095217-beb1-443f-a4aa-447047cab51a\">\n",
              "    <div class=\"colab-df-container\">\n",
              "      <div>\n",
              "<style scoped>\n",
              "    .dataframe tbody tr th:only-of-type {\n",
              "        vertical-align: middle;\n",
              "    }\n",
              "\n",
              "    .dataframe tbody tr th {\n",
              "        vertical-align: top;\n",
              "    }\n",
              "\n",
              "    .dataframe thead th {\n",
              "        text-align: right;\n",
              "    }\n",
              "</style>\n",
              "<table border=\"1\" class=\"dataframe\">\n",
              "  <thead>\n",
              "    <tr style=\"text-align: right;\">\n",
              "      <th></th>\n",
              "      <th>carat</th>\n",
              "      <th>depth</th>\n",
              "      <th>table</th>\n",
              "      <th>price</th>\n",
              "      <th>x</th>\n",
              "      <th>y</th>\n",
              "      <th>z</th>\n",
              "    </tr>\n",
              "  </thead>\n",
              "  <tbody>\n",
              "    <tr>\n",
              "      <th>count</th>\n",
              "      <td>53940.000000</td>\n",
              "      <td>53940.000000</td>\n",
              "      <td>53940.000000</td>\n",
              "      <td>53940.000000</td>\n",
              "      <td>53940.000000</td>\n",
              "      <td>53940.000000</td>\n",
              "      <td>53940.000000</td>\n",
              "    </tr>\n",
              "    <tr>\n",
              "      <th>mean</th>\n",
              "      <td>0.797940</td>\n",
              "      <td>61.749405</td>\n",
              "      <td>57.457184</td>\n",
              "      <td>3932.799722</td>\n",
              "      <td>5.731157</td>\n",
              "      <td>5.734526</td>\n",
              "      <td>3.538734</td>\n",
              "    </tr>\n",
              "    <tr>\n",
              "      <th>std</th>\n",
              "      <td>0.474011</td>\n",
              "      <td>1.432621</td>\n",
              "      <td>2.234491</td>\n",
              "      <td>3989.439738</td>\n",
              "      <td>1.121761</td>\n",
              "      <td>1.142135</td>\n",
              "      <td>0.705699</td>\n",
              "    </tr>\n",
              "    <tr>\n",
              "      <th>min</th>\n",
              "      <td>0.200000</td>\n",
              "      <td>43.000000</td>\n",
              "      <td>43.000000</td>\n",
              "      <td>326.000000</td>\n",
              "      <td>0.000000</td>\n",
              "      <td>0.000000</td>\n",
              "      <td>0.000000</td>\n",
              "    </tr>\n",
              "    <tr>\n",
              "      <th>25%</th>\n",
              "      <td>0.400000</td>\n",
              "      <td>61.000000</td>\n",
              "      <td>56.000000</td>\n",
              "      <td>950.000000</td>\n",
              "      <td>4.710000</td>\n",
              "      <td>4.720000</td>\n",
              "      <td>2.910000</td>\n",
              "    </tr>\n",
              "    <tr>\n",
              "      <th>50%</th>\n",
              "      <td>0.700000</td>\n",
              "      <td>61.800000</td>\n",
              "      <td>57.000000</td>\n",
              "      <td>2401.000000</td>\n",
              "      <td>5.700000</td>\n",
              "      <td>5.710000</td>\n",
              "      <td>3.530000</td>\n",
              "    </tr>\n",
              "    <tr>\n",
              "      <th>75%</th>\n",
              "      <td>1.040000</td>\n",
              "      <td>62.500000</td>\n",
              "      <td>59.000000</td>\n",
              "      <td>5324.250000</td>\n",
              "      <td>6.540000</td>\n",
              "      <td>6.540000</td>\n",
              "      <td>4.040000</td>\n",
              "    </tr>\n",
              "    <tr>\n",
              "      <th>max</th>\n",
              "      <td>5.010000</td>\n",
              "      <td>79.000000</td>\n",
              "      <td>95.000000</td>\n",
              "      <td>18823.000000</td>\n",
              "      <td>10.740000</td>\n",
              "      <td>58.900000</td>\n",
              "      <td>31.800000</td>\n",
              "    </tr>\n",
              "  </tbody>\n",
              "</table>\n",
              "</div>\n",
              "      <button class=\"colab-df-convert\" onclick=\"convertToInteractive('df-40095217-beb1-443f-a4aa-447047cab51a')\"\n",
              "              title=\"Convert this dataframe to an interactive table.\"\n",
              "              style=\"display:none;\">\n",
              "        \n",
              "  <svg xmlns=\"http://www.w3.org/2000/svg\" height=\"24px\"viewBox=\"0 0 24 24\"\n",
              "       width=\"24px\">\n",
              "    <path d=\"M0 0h24v24H0V0z\" fill=\"none\"/>\n",
              "    <path d=\"M18.56 5.44l.94 2.06.94-2.06 2.06-.94-2.06-.94-.94-2.06-.94 2.06-2.06.94zm-11 1L8.5 8.5l.94-2.06 2.06-.94-2.06-.94L8.5 2.5l-.94 2.06-2.06.94zm10 10l.94 2.06.94-2.06 2.06-.94-2.06-.94-.94-2.06-.94 2.06-2.06.94z\"/><path d=\"M17.41 7.96l-1.37-1.37c-.4-.4-.92-.59-1.43-.59-.52 0-1.04.2-1.43.59L10.3 9.45l-7.72 7.72c-.78.78-.78 2.05 0 2.83L4 21.41c.39.39.9.59 1.41.59.51 0 1.02-.2 1.41-.59l7.78-7.78 2.81-2.81c.8-.78.8-2.07 0-2.86zM5.41 20L4 18.59l7.72-7.72 1.47 1.35L5.41 20z\"/>\n",
              "  </svg>\n",
              "      </button>\n",
              "      \n",
              "  <style>\n",
              "    .colab-df-container {\n",
              "      display:flex;\n",
              "      flex-wrap:wrap;\n",
              "      gap: 12px;\n",
              "    }\n",
              "\n",
              "    .colab-df-convert {\n",
              "      background-color: #E8F0FE;\n",
              "      border: none;\n",
              "      border-radius: 50%;\n",
              "      cursor: pointer;\n",
              "      display: none;\n",
              "      fill: #1967D2;\n",
              "      height: 32px;\n",
              "      padding: 0 0 0 0;\n",
              "      width: 32px;\n",
              "    }\n",
              "\n",
              "    .colab-df-convert:hover {\n",
              "      background-color: #E2EBFA;\n",
              "      box-shadow: 0px 1px 2px rgba(60, 64, 67, 0.3), 0px 1px 3px 1px rgba(60, 64, 67, 0.15);\n",
              "      fill: #174EA6;\n",
              "    }\n",
              "\n",
              "    [theme=dark] .colab-df-convert {\n",
              "      background-color: #3B4455;\n",
              "      fill: #D2E3FC;\n",
              "    }\n",
              "\n",
              "    [theme=dark] .colab-df-convert:hover {\n",
              "      background-color: #434B5C;\n",
              "      box-shadow: 0px 1px 3px 1px rgba(0, 0, 0, 0.15);\n",
              "      filter: drop-shadow(0px 1px 2px rgba(0, 0, 0, 0.3));\n",
              "      fill: #FFFFFF;\n",
              "    }\n",
              "  </style>\n",
              "\n",
              "      <script>\n",
              "        const buttonEl =\n",
              "          document.querySelector('#df-40095217-beb1-443f-a4aa-447047cab51a button.colab-df-convert');\n",
              "        buttonEl.style.display =\n",
              "          google.colab.kernel.accessAllowed ? 'block' : 'none';\n",
              "\n",
              "        async function convertToInteractive(key) {\n",
              "          const element = document.querySelector('#df-40095217-beb1-443f-a4aa-447047cab51a');\n",
              "          const dataTable =\n",
              "            await google.colab.kernel.invokeFunction('convertToInteractive',\n",
              "                                                     [key], {});\n",
              "          if (!dataTable) return;\n",
              "\n",
              "          const docLinkHtml = 'Like what you see? Visit the ' +\n",
              "            '<a target=\"_blank\" href=https://colab.research.google.com/notebooks/data_table.ipynb>data table notebook</a>'\n",
              "            + ' to learn more about interactive tables.';\n",
              "          element.innerHTML = '';\n",
              "          dataTable['output_type'] = 'display_data';\n",
              "          await google.colab.output.renderOutput(dataTable, element);\n",
              "          const docLink = document.createElement('div');\n",
              "          docLink.innerHTML = docLinkHtml;\n",
              "          element.appendChild(docLink);\n",
              "        }\n",
              "      </script>\n",
              "    </div>\n",
              "  </div>\n",
              "  "
            ]
          },
          "metadata": {},
          "execution_count": 3
        }
      ]
    },
    {
      "cell_type": "markdown",
      "source": [
        "## (f)"
      ],
      "metadata": {
        "id": "k9EHt8UsOTxd"
      }
    },
    {
      "cell_type": "code",
      "source": [
        "df_diamonds.cut.squeeze().describe()\n",
        "df_diamonds.color.squeeze().describe()\n",
        "df_diamonds.clarity.squeeze().describe()"
      ],
      "metadata": {
        "colab": {
          "base_uri": "https://localhost:8080/",
          "height": 0
        },
        "id": "hJ6Hb5qSG-RP",
        "outputId": "1fdd1563-b4eb-4a27-c18a-095a1bd6830f"
      },
      "execution_count": 4,
      "outputs": [
        {
          "output_type": "execute_result",
          "data": {
            "text/plain": [
              "count     53940\n",
              "unique        8\n",
              "top         SI1\n",
              "freq      13065\n",
              "Name: clarity, dtype: object"
            ]
          },
          "metadata": {},
          "execution_count": 4
        }
      ]
    },
    {
      "cell_type": "markdown",
      "source": [
        "## (g)"
      ],
      "metadata": {
        "id": "5CxDejheOm3l"
      }
    },
    {
      "cell_type": "code",
      "source": [
        "df_diamonds.carat.squeeze().unique()"
      ],
      "metadata": {
        "colab": {
          "base_uri": "https://localhost:8080/",
          "height": 0
        },
        "id": "jXsvGHEeI0Yj",
        "outputId": "be2bb51b-b648-4b78-aae6-81ffd257236c"
      },
      "execution_count": 5,
      "outputs": [
        {
          "output_type": "execute_result",
          "data": {
            "text/plain": [
              "array([0.23, 0.21, 0.29, 0.31, 0.24, 0.26, 0.22, 0.3 , 0.2 , 0.32, 0.33,\n",
              "       0.25, 0.35, 0.42, 0.28, 0.38, 0.7 , 0.86, 0.71, 0.78, 0.96, 0.73,\n",
              "       0.8 , 0.75, 0.74, 0.81, 0.59, 0.9 , 0.91, 0.61, 0.77, 0.63, 0.76,\n",
              "       0.64, 0.72, 0.79, 0.58, 1.17, 0.6 , 0.83, 0.54, 0.98, 0.52, 1.01,\n",
              "       0.53, 0.84, 0.51, 1.05, 0.55, 0.87, 1.  , 0.57, 0.82, 1.04, 0.93,\n",
              "       1.2 , 0.99, 0.34, 0.43, 0.36, 0.95, 0.89, 1.02, 0.97, 0.56, 0.85,\n",
              "       0.92, 1.27, 0.66, 1.12, 0.68, 1.03, 0.62, 1.22, 1.08, 0.88, 0.5 ,\n",
              "       1.19, 0.39, 0.65, 1.24, 1.5 , 0.27, 0.41, 1.13, 1.06, 0.69, 0.4 ,\n",
              "       1.14, 0.94, 1.29, 1.52, 1.16, 1.21, 1.23, 1.09, 0.67, 1.11, 1.1 ,\n",
              "       1.18, 1.15, 1.25, 1.07, 1.28, 1.51, 0.37, 1.31, 1.26, 1.39, 1.44,\n",
              "       1.35, 1.3 , 1.32, 1.41, 1.36, 1.45, 1.34, 1.58, 1.54, 1.38, 1.33,\n",
              "       1.74, 1.64, 1.47, 1.4 , 1.55, 1.95, 2.  , 1.37, 1.83, 1.62, 1.57,\n",
              "       1.69, 2.06, 1.72, 1.66, 2.14, 1.49, 1.46, 2.15, 1.96, 2.22, 1.7 ,\n",
              "       1.53, 1.85, 2.01, 2.27, 1.68, 1.56, 1.81, 1.65, 1.82, 2.03, 1.73,\n",
              "       1.59, 1.42, 1.43, 2.08, 1.48, 1.6 , 2.49, 1.71, 2.02, 2.07, 3.  ,\n",
              "       2.21, 2.1 , 1.91, 2.25, 2.17, 2.32, 2.72, 1.61, 2.23, 2.11, 2.05,\n",
              "       1.63, 2.3 , 2.31, 1.75, 2.04, 2.12, 1.77, 2.5 , 1.8 , 1.67, 1.84,\n",
              "       2.2 , 3.01, 1.88, 2.33, 2.68, 2.34, 1.9 , 2.16, 2.74, 1.78, 1.76,\n",
              "       2.28, 1.79, 1.94, 2.43, 1.86, 3.11, 1.87, 2.09, 1.89, 2.52, 2.19,\n",
              "       2.18, 2.77, 2.63, 3.05, 2.46, 3.02, 2.38, 2.24, 2.26, 2.36, 1.99,\n",
              "       2.29, 3.65, 2.45, 2.4 , 2.54, 3.24, 2.13, 2.58, 3.22, 3.5 , 2.48,\n",
              "       1.98, 2.44, 2.75, 1.93, 2.41, 2.61, 2.35, 2.51, 2.7 , 2.55, 1.97,\n",
              "       2.53, 2.37, 2.47, 2.8 , 4.01, 2.56, 3.04, 1.92, 2.39, 3.4 , 4.  ,\n",
              "       3.67, 2.42, 2.66, 2.65, 2.59, 2.6 , 2.57, 2.71, 4.13, 2.64, 5.01,\n",
              "       4.5 , 2.67, 3.51, 0.44, 0.45, 0.47, 0.46, 0.48, 0.49])"
            ]
          },
          "metadata": {},
          "execution_count": 5
        }
      ]
    },
    {
      "cell_type": "code",
      "source": [
        "df_diamonds.cut.squeeze().unique()"
      ],
      "metadata": {
        "colab": {
          "base_uri": "https://localhost:8080/",
          "height": 0
        },
        "id": "rwZ8hiJDNZPK",
        "outputId": "f5d74006-edcf-4e12-c011-5587276967f5"
      },
      "execution_count": 6,
      "outputs": [
        {
          "output_type": "execute_result",
          "data": {
            "text/plain": [
              "array(['Ideal', 'Premium', 'Good', 'Very Good', 'Fair'], dtype=object)"
            ]
          },
          "metadata": {},
          "execution_count": 6
        }
      ]
    },
    {
      "cell_type": "code",
      "source": [
        "df_diamonds.color.squeeze().unique()"
      ],
      "metadata": {
        "colab": {
          "base_uri": "https://localhost:8080/",
          "height": 0
        },
        "id": "D8yFYHtANZad",
        "outputId": "ce0138e7-1700-4c3e-d7d2-7ac96517a6af"
      },
      "execution_count": 7,
      "outputs": [
        {
          "output_type": "execute_result",
          "data": {
            "text/plain": [
              "array(['E', 'I', 'J', 'H', 'F', 'G', 'D'], dtype=object)"
            ]
          },
          "metadata": {},
          "execution_count": 7
        }
      ]
    },
    {
      "cell_type": "code",
      "source": [
        "df_diamonds.clarity.squeeze().unique()"
      ],
      "metadata": {
        "colab": {
          "base_uri": "https://localhost:8080/",
          "height": 0
        },
        "id": "6k5gm_0yNZkD",
        "outputId": "3da40bc7-d950-44e4-e7c3-c8af5741f84b"
      },
      "execution_count": 8,
      "outputs": [
        {
          "output_type": "execute_result",
          "data": {
            "text/plain": [
              "array(['SI2', 'SI1', 'VS1', 'VS2', 'VVS2', 'VVS1', 'I1', 'IF'],\n",
              "      dtype=object)"
            ]
          },
          "metadata": {},
          "execution_count": 8
        }
      ]
    },
    {
      "cell_type": "code",
      "source": [
        "df_diamonds.depth.squeeze().unique()"
      ],
      "metadata": {
        "colab": {
          "base_uri": "https://localhost:8080/",
          "height": 0
        },
        "id": "Jn7kZ14JNZxV",
        "outputId": "40b5174a-7b5f-4b64-df17-7b55598a113c"
      },
      "execution_count": 9,
      "outputs": [
        {
          "output_type": "execute_result",
          "data": {
            "text/plain": [
              "array([61.5, 59.8, 56.9, 62.4, 63.3, 62.8, 62.3, 61.9, 65.1, 59.4, 64. ,\n",
              "       60.4, 62.2, 60.2, 60.9, 62. , 63.4, 63.8, 62.7, 61. , 58.1, 62.5,\n",
              "       60.5, 60. , 60.7, 59.5, 58.2, 64.1, 60.8, 61.8, 61.2, 61.1, 65.2,\n",
              "       58.4, 63.1, 61.6, 59.3, 62.6, 63. , 63.2, 62.1, 61.4, 62.9, 63.7,\n",
              "       59.2, 59.9, 57.9, 55.1, 57.5, 66.3, 61.7, 58.8, 64.5, 65.3, 59.6,\n",
              "       64.4, 65.7, 63.6, 61.3, 60.1, 60.3, 58. , 64.6, 59.7, 57.8, 67.9,\n",
              "       60.6, 57.2, 64.2, 65.8, 67.4, 59. , 63.5, 67.3, 58.7, 66.4, 68.1,\n",
              "       63.9, 55. , 58.6, 64.3, 58.5, 65. , 56. , 58.3, 53.1, 64.9, 59.1,\n",
              "       58.9, 66.7, 57.7, 65.4, 53.3, 53. , 67.8, 66.1, 55.8, 67.6, 68.2,\n",
              "       65.5, 67.7, 69.5, 56.6, 56.3, 66.9, 66. , 67. , 57.6, 67.1, 65.6,\n",
              "       64.8, 69.3, 66.2, 55.4, 66.8, 64.7, 66.6, 55.9, 57.3, 57.4, 68.3,\n",
              "       68.5, 56.2, 65.9, 56.5, 56.1, 66.5, 68.4, 69.7, 57.1, 68.7, 56.7,\n",
              "       68.6, 71.6, 43. , 68.8, 67.5, 69. , 55.2, 68.9, 69.6, 57. , 56.4,\n",
              "       56.8, 44. , 67.2, 70.1, 71.3, 70.6, 69.8, 71.8, 53.8, 53.2, 70. ,\n",
              "       69.4, 68. , 70.2, 50.8, 55.6, 70.5, 71. , 69.1, 55.3, 54.2, 51. ,\n",
              "       70.8, 54.6, 54. , 54.4, 52.3, 55.5, 78.2, 71.2, 52.7, 54.3, 69.2,\n",
              "       73.6, 52.2, 69.9, 53.4, 72.2, 79. , 72.9, 54.7])"
            ]
          },
          "metadata": {},
          "execution_count": 9
        }
      ]
    },
    {
      "cell_type": "code",
      "source": [
        "df_diamonds.table.squeeze().unique()"
      ],
      "metadata": {
        "colab": {
          "base_uri": "https://localhost:8080/",
          "height": 0
        },
        "id": "vdn9VKJENZ8V",
        "outputId": "9c45609b-be99-4120-b0fc-e8d874b5fe99"
      },
      "execution_count": 10,
      "outputs": [
        {
          "output_type": "execute_result",
          "data": {
            "text/plain": [
              "array([55. , 61. , 65. , 58. , 57. , 56. , 54. , 62. , 59. , 63. , 60. ,\n",
              "       55.3, 69. , 53. , 64. , 56.4, 60.5, 67. , 52. , 55.8, 66. , 70. ,\n",
              "       68. , 54.4, 57.1, 53.6, 54.8, 54.2, 54.9, 56.7, 53.9, 57.8, 54.1,\n",
              "       55.1, 51. , 58.1, 56.9, 56.5, 53.7, 60.7, 56.2, 56.6, 56.1, 56.3,\n",
              "       57.2, 57.5, 60.9, 59.8, 62.3, 60.1, 55.9, 50.1, 62.2, 54.5, 55.7,\n",
              "       53.4, 54.7, 58.8, 59.4, 62.5, 54.3, 60.6, 55.2, 58.6, 49. , 50. ,\n",
              "       54.6, 62.6, 57.7, 56.8, 57.9, 60.3, 55.6, 59.5, 57.4, 62.4, 60.4,\n",
              "       53.3, 60.2, 60.8, 58.5, 57.6, 43. , 59.9, 63.5, 57.3, 61.4, 58.3,\n",
              "       55.4, 58.2, 53.5, 59.7, 55.5, 58.7, 53.8, 59.1, 53.2, 59.3, 61.1,\n",
              "       51.6, 95. , 61.2, 59.2, 58.4, 53.1, 52.8, 44. , 61.3, 61.9, 61.8,\n",
              "       59.6, 61.5, 58.9, 64.3, 62.8, 71. , 52.4, 63.3, 61.7, 64.2, 73. ,\n",
              "       65.4, 63.4, 62.1, 79. , 76. , 61.6])"
            ]
          },
          "metadata": {},
          "execution_count": 10
        }
      ]
    },
    {
      "cell_type": "code",
      "source": [
        "df_diamonds.price.squeeze().unique()"
      ],
      "metadata": {
        "colab": {
          "base_uri": "https://localhost:8080/",
          "height": 0
        },
        "id": "jIaaAFRFNaBs",
        "outputId": "61619dbe-367c-49fd-f593-022a781d9d7b"
      },
      "execution_count": 11,
      "outputs": [
        {
          "output_type": "execute_result",
          "data": {
            "text/plain": [
              "array([ 326,  327,  334, ..., 2753, 2755, 2756])"
            ]
          },
          "metadata": {},
          "execution_count": 11
        }
      ]
    },
    {
      "cell_type": "code",
      "source": [
        "df_diamonds.x.squeeze().unique()"
      ],
      "metadata": {
        "colab": {
          "base_uri": "https://localhost:8080/",
          "height": 0
        },
        "id": "JLuJgCFDNaIq",
        "outputId": "f49c0b55-6413-4f8b-f80a-b94a5e849d20"
      },
      "execution_count": 12,
      "outputs": [
        {
          "output_type": "execute_result",
          "data": {
            "text/plain": [
              "array([ 3.95,  3.89,  4.05,  4.2 ,  4.34,  3.94,  4.07,  3.87,  4.  ,\n",
              "        4.25,  3.93,  3.88,  4.35,  3.79,  4.38,  4.31,  4.23,  4.21,\n",
              "        4.26,  3.85,  4.39,  4.44,  3.97,  4.28,  3.96,  4.04,  4.01,\n",
              "        3.92,  4.06,  3.83,  4.29,  4.13,  4.49,  3.99,  4.19,  4.24,\n",
              "        4.36,  4.33,  4.02,  4.45,  3.91,  4.3 ,  4.43,  4.54,  4.78,\n",
              "        4.15,  4.08,  4.03,  4.65,  4.22,  5.7 ,  6.45,  5.68,  5.81,\n",
              "        5.85,  5.71,  6.27,  5.77,  5.97,  5.8 ,  6.  ,  5.94,  5.87,\n",
              "        5.9 ,  6.14,  5.38,  5.96,  6.16,  5.73,  5.98,  5.72,  6.01,\n",
              "        5.64,  5.57,  5.63,  5.65,  6.09,  5.56,  6.11,  6.03,  5.89,\n",
              "        5.69,  5.62,  5.88,  5.52,  5.74,  5.53,  5.78,  5.83,  5.66,\n",
              "        5.82,  5.79,  5.92,  5.39,  5.33,  6.83,  5.41,  5.25,  5.24,\n",
              "        5.67,  5.61,  5.76,  6.05,  5.6 ,  5.19,  5.84,  6.39,  5.34,\n",
              "        5.14,  5.11,  5.54,  6.07,  6.29,  6.31,  6.49,  5.28,  5.48,\n",
              "        5.55,  6.41,  6.02,  5.91,  6.17,  6.61,  5.12,  6.19,  5.43,\n",
              "        5.99,  5.95,  6.37,  5.93,  6.46,  5.22,  5.75,  6.21,  6.15,\n",
              "        6.73,  5.49,  4.37,  4.47,  4.41,  4.27,  4.85,  4.32,  4.48,\n",
              "        4.5 ,  4.56,  4.94,  4.09,  6.72,  5.15,  6.3 ,  5.86,  5.23,\n",
              "        6.08,  6.62,  6.26,  6.55,  6.04,  6.2 ,  6.43,  6.36,  6.34,\n",
              "        5.2 ,  5.37,  6.06,  5.51,  6.9 ,  6.24,  5.36,  5.16,  5.45,\n",
              "        5.47,  6.12,  6.6 ,  6.35,  7.12,  6.25,  6.1 ,  6.75,  6.22,\n",
              "        6.78,  6.38,  6.82,  6.84,  5.44,  4.57,  4.6 ,  4.52,  4.42,\n",
              "        4.46,  6.93,  6.4 ,  5.27,  5.21,  6.47,  6.13,  5.59,  6.44,\n",
              "        6.53,  6.5 ,  6.32,  5.08,  5.09,  5.18,  5.3 ,  6.68,  6.51,\n",
              "        6.23,  5.42,  4.66,  4.4 ,  6.18,  5.58,  5.03,  6.85,  6.67,\n",
              "        6.28,  6.57,  7.26,  4.18,  4.77,  6.52,  6.42,  5.5 ,  6.54,\n",
              "        6.92,  5.46,  6.77,  6.63,  5.35,  5.17,  4.64,  6.81,  6.33,\n",
              "        5.4 ,  7.53,  6.48,  6.58,  7.01,  6.79,  6.59,  6.66,  6.64,\n",
              "        6.99,  4.67,  7.56,  6.65,  6.69,  5.13,  6.8 ,  4.58,  4.55,\n",
              "        4.16,  4.12,  4.51,  6.71,  6.95,  4.14,  4.53,  6.89,  6.86,\n",
              "        6.91,  6.76,  6.96,  4.99,  4.61,  4.69,  4.71,  6.56,  4.1 ,\n",
              "        4.7 ,  7.4 ,  5.29,  5.26,  5.31,  5.32,  7.29,  7.18,  6.87,\n",
              "        6.74,  7.43,  6.7 ,  7.37,  7.  ,  4.11,  4.63,  6.94,  7.22,\n",
              "        7.06,  7.05,  7.09,  7.17,  7.07,  4.73,  4.75,  4.74,  7.02,\n",
              "        7.16,  7.11,  6.88,  7.1 ,  4.98,  7.15,  6.98,  7.31,  7.38,\n",
              "        7.39,  7.33,  4.17,  4.59,  7.28,  7.08,  6.97,  4.62,  4.83,\n",
              "        4.68,  7.34,  7.21,  4.89,  7.03,  7.55,  4.79,  7.25,  7.45,\n",
              "        7.19,  7.04,  7.62,  7.14,  3.98,  4.8 ,  7.44,  0.  ,  7.13,\n",
              "        7.32,  7.2 ,  7.48,  8.1 ,  8.11,  7.23,  7.27,  7.42,  7.7 ,\n",
              "        4.76,  4.72,  7.3 ,  7.24,  7.79,  7.54,  7.63,  7.46,  7.74,\n",
              "        4.84,  8.01,  7.59,  7.36,  4.87,  8.04,  7.78,  7.8 ,  7.71,\n",
              "        8.48,  7.61,  8.05,  7.6 ,  7.5 ,  7.52,  7.91,  7.81,  8.03,\n",
              "        8.23,  7.41,  7.49,  7.68,  7.57,  7.35,  8.26,  7.84,  7.58,\n",
              "        8.  ,  8.19,  7.77,  7.87,  7.47,  8.25,  7.76,  9.23,  7.97,\n",
              "        8.31,  8.3 ,  7.82,  4.88,  7.93,  7.73,  7.89,  7.66,  7.75,\n",
              "        8.75,  7.88,  7.99,  8.46,  7.51,  7.69,  7.64,  8.24,  8.15,\n",
              "        8.71,  7.83,  8.39,  7.72,  8.13,  4.82,  7.65,  9.1 ,  8.93,\n",
              "        8.16,  7.94,  7.85,  8.64,  7.67,  4.91,  4.81,  8.14,  7.86,\n",
              "        9.11,  8.45,  7.9 ,  8.47,  8.07,  8.55,  8.76,  7.96,  8.28,\n",
              "        8.4 ,  8.37,  8.52,  8.43,  8.09,  7.98,  8.81,  8.54,  8.02,\n",
              "        8.08,  8.18,  4.92,  8.12,  9.15,  8.17,  9.24,  8.33,  8.34,\n",
              "        7.92,  8.57,  7.95,  8.06,  9.26,  8.82,  8.27,  8.66,  8.22,\n",
              "        9.54,  9.38,  8.36,  8.41,  8.53,  8.42,  8.44,  8.21,  8.51,\n",
              "        8.68,  8.49,  8.29,  8.2 ,  9.08,  9.17,  8.6 ,  9.53,  8.7 ,\n",
              "        8.32,  8.65,  9.44,  8.38,  8.61,  8.58,  9.49,  9.65,  8.83,\n",
              "        8.5 ,  8.79,  8.63,  8.74,  9.04,  9.42,  8.35,  8.56,  8.8 ,\n",
              "        8.87,  8.84,  8.88,  8.59,  8.69,  9.32,  9.03,  8.72, 10.14,\n",
              "       10.02,  8.62,  8.85,  9.14,  8.67,  8.99, 10.01,  8.78,  9.25,\n",
              "        9.86,  8.77,  8.73,  9.3 ,  9.13,  9.05, 10.  ,  8.9 ,  8.97,\n",
              "       10.74,  9.36,  9.06,  8.89, 10.23,  9.51,  9.66,  9.35,  9.41,\n",
              "        4.86,  4.9 ,  3.9 ,  3.86,  4.93,  4.96,  5.04,  5.  ,  4.95,\n",
              "        5.01,  5.05,  3.81,  3.84,  3.73,  3.74,  3.76,  3.77,  4.97,\n",
              "        5.06,  5.02,  5.1 ,  5.07,  3.82])"
            ]
          },
          "metadata": {},
          "execution_count": 12
        }
      ]
    },
    {
      "cell_type": "code",
      "source": [
        "df_diamonds.y.squeeze().unique()"
      ],
      "metadata": {
        "colab": {
          "base_uri": "https://localhost:8080/",
          "height": 0
        },
        "id": "KdYAGDbXNjuh",
        "outputId": "df555e0f-151c-4e51-9815-2f60bc4f8c85"
      },
      "execution_count": 13,
      "outputs": [
        {
          "output_type": "execute_result",
          "data": {
            "text/plain": [
              "array([ 3.98,  3.84,  4.07,  4.23,  4.35,  3.96,  4.11,  3.78,  4.05,\n",
              "        4.28,  3.9 ,  4.37,  3.75,  4.42,  4.34,  4.29,  4.26,  4.27,\n",
              "        4.3 ,  3.92,  4.43,  4.47,  4.01,  3.94,  3.97,  3.99,  4.03,\n",
              "        4.06,  4.08,  3.85,  4.31,  4.16,  4.51,  4.5 ,  4.55,  4.02,\n",
              "        4.24,  4.38,  3.95,  4.48,  3.89,  3.88,  4.33,  4.32,  4.59,\n",
              "        4.84,  4.22,  4.  ,  4.25,  4.13,  4.09,  4.04,  4.12,  4.67,\n",
              "        5.72,  6.33,  5.67,  5.73,  5.85,  5.9 ,  5.76,  5.95,  5.78,\n",
              "        5.93,  5.75,  5.96,  5.79,  5.87,  5.8 ,  5.81,  6.11,  5.43,\n",
              "        6.  ,  5.84,  6.12,  5.82,  5.74,  5.94,  6.07,  5.69,  5.83,\n",
              "        5.61,  5.53,  5.58,  5.59,  5.97,  6.09,  5.99,  5.86,  5.68,\n",
              "        5.65,  5.55,  5.77,  5.91,  5.56,  5.89,  5.92,  6.03,  5.44,\n",
              "        5.37,  5.88,  6.9 ,  5.62,  5.27,  5.26,  5.7 ,  5.64,  5.63,\n",
              "        5.71,  5.51,  5.22,  6.36,  5.54,  5.66,  6.2 ,  5.18,  5.15,\n",
              "        6.1 ,  6.21,  6.22,  6.45,  6.01,  5.3 ,  5.41,  5.52,  6.27,\n",
              "        6.05,  6.06,  6.13,  6.55,  5.35,  5.16,  6.25,  6.02,  5.46,\n",
              "        6.23,  6.08,  5.45,  6.41,  6.34,  5.25,  6.15,  6.19,  6.66,\n",
              "        4.36,  4.2 ,  4.79,  4.57,  4.52,  4.53,  4.58,  5.  ,  6.67,\n",
              "        5.11,  6.29,  6.04,  6.53,  6.65,  6.5 ,  6.16,  5.6 ,  6.39,\n",
              "        5.21,  5.4 ,  5.98,  6.83,  6.37,  6.31,  5.38,  6.43,  5.29,\n",
              "        5.19,  6.18,  5.34,  5.48,  5.23,  6.14,  5.49,  5.57,  6.46,\n",
              "        7.05,  6.26,  6.75,  6.74,  6.77,  4.66,  4.46,  4.56,  4.41,\n",
              "        4.4 ,  4.39,  5.2 ,  6.88,  5.31,  6.3 ,  6.48,  5.47,  5.13,\n",
              "        6.49,  6.47,  6.32,  5.12,  5.24,  6.35,  6.61,  4.7 ,  6.24,\n",
              "        6.28,  5.08,  6.44,  6.79,  6.57,  6.92,  6.6 ,  5.28,  5.42,\n",
              "        5.5 ,  7.09,  4.45,  4.62,  4.8 ,  6.42,  6.85,  6.54,  6.7 ,\n",
              "        6.51,  6.59,  6.38,  6.69,  5.06,  4.69,  4.44,  4.49,  6.71,\n",
              "        6.4 ,  6.17,  5.39,  7.42,  6.52,  6.95,  6.56,  6.62,  6.87,\n",
              "        6.81,  7.39,  6.58,  6.73,  5.17,  4.65,  4.19,  4.61,  6.64,\n",
              "        6.91,  6.8 ,  4.15,  4.71,  4.21,  4.68,  6.84,  6.86,  4.96,\n",
              "        5.04,  5.09,  4.64,  4.74,  4.73,  4.6 ,  4.75,  7.28,  5.32,\n",
              "        6.82,  6.63,  7.17,  7.13,  4.1 ,  4.63,  7.35,  6.68,  7.26,\n",
              "        6.78,  4.17,  4.9 ,  6.89,  7.01,  7.1 ,  6.72,  7.  ,  5.36,\n",
              "        4.76,  4.78,  6.96,  7.15,  7.19,  6.93,  4.54,  7.34,  6.76,\n",
              "        7.18,  4.14,  7.12,  7.04,  7.22,  7.2 ,  6.94,  7.16,  7.21,\n",
              "        4.18,  7.32,  7.06,  6.99,  4.72,  7.03,  7.14,  6.97,  7.29,\n",
              "        7.51,  4.81,  6.98,  7.33,  7.23,  7.25,  7.02,  7.59,  7.11,\n",
              "        4.82,  7.07,  7.36,  7.08,  7.4 ,  7.41,  8.05,  8.06,  0.  ,\n",
              "        4.83,  7.44,  7.79,  8.07,  7.24,  7.7 ,  7.45,  7.56,  4.88,\n",
              "        7.27,  7.95,  4.87,  7.31,  4.77,  4.89,  8.02,  7.37,  7.49,\n",
              "        7.38,  7.74,  7.75,  7.64,  8.39,  7.55,  8.  ,  7.48,  7.5 ,\n",
              "        7.54,  7.47,  7.52,  7.53,  7.43,  7.85,  7.6 ,  7.3 ,  7.99,\n",
              "        7.57,  8.18,  7.8 ,  7.92,  7.72,  8.2 ,  7.65,  7.63,  7.58,\n",
              "        7.73,  9.1 ,  8.27,  8.19,  7.76,  8.01,  7.66,  7.46,  7.97,\n",
              "        4.94,  7.91,  7.86,  7.61,  8.69,  7.82,  7.9 ,  8.43,  7.62,\n",
              "        7.71,  7.83,  8.3 ,  8.12,  7.94,  7.98,  8.56,  7.78,  8.22,\n",
              "        8.28,  7.67,  4.85,  8.44,  7.87,  8.97,  8.84,  8.11,  4.98,\n",
              "        7.81,  8.09,  7.68,  8.25,  9.07,  8.38,  8.67,  7.84,  4.86,\n",
              "        8.26,  8.66,  7.69,  8.32,  8.46,  8.35,  7.89,  8.04,  8.21,\n",
              "        7.96,  8.03,  8.77,  8.49,  8.17,  8.13,  8.33,  7.77,  9.02,\n",
              "        8.08,  9.13,  7.88,  8.31,  8.53,  8.5 ,  8.14,  8.83,  8.81,\n",
              "        9.25,  8.15,  8.76,  8.23,  7.93,  8.16,  8.63,  9.38,  9.31,\n",
              "        8.34,  8.24,  8.51,  8.47,  8.1 ,  8.57,  8.45,  3.86,  8.96,\n",
              "        9.48,  8.36,  8.58,  8.41,  8.61,  8.64,  4.97, 58.9 ,  8.68,\n",
              "        9.4 ,  8.37,  8.48,  8.29,  8.4 ,  9.42,  9.59,  8.78,  8.54,\n",
              "        8.7 ,  8.98,  9.26,  8.65,  8.52,  8.6 ,  8.42,  9.37,  8.74,\n",
              "        8.59,  8.55,  9.01,  9.19, 10.1 ,  9.94,  8.71,  9.34,  9.2 ,\n",
              "        9.81,  8.73,  8.82,  8.87,  8.75,  8.79,  8.93,  8.88,  9.14,\n",
              "        9.03,  8.9 ,  8.94,  9.85,  8.62, 10.54,  8.89, 10.16,  9.46,\n",
              "        9.63,  9.22,  9.32,  8.85,  4.91,  4.93,  4.92,  3.93,  4.95,\n",
              "        5.01,  4.99,  5.05,  3.77,  3.8 ,  3.71,  3.73,  3.68,  3.72,\n",
              "        3.91,  5.07,  5.02,  5.03,  3.87,  5.14,  5.1 ,  5.33,  3.83,\n",
              "        3.81,  3.82, 31.8 ])"
            ]
          },
          "metadata": {},
          "execution_count": 13
        }
      ]
    },
    {
      "cell_type": "code",
      "source": [
        "df_diamonds.z.squeeze().unique()"
      ],
      "metadata": {
        "colab": {
          "base_uri": "https://localhost:8080/",
          "height": 0
        },
        "id": "D5XJgAcBNj38",
        "outputId": "c1636ec0-0807-4261-fb2a-0db17b40976c"
      },
      "execution_count": 14,
      "outputs": [
        {
          "output_type": "execute_result",
          "data": {
            "text/plain": [
              "array([ 2.43,  2.31,  2.63,  2.75,  2.48,  2.47,  2.53,  2.49,  2.39,\n",
              "        2.73,  2.46,  2.33,  2.71,  2.27,  2.68,  2.7 ,  2.66,  2.41,\n",
              "        2.62,  2.59,  2.67,  2.4 ,  2.42,  2.44,  2.37,  2.52,  2.78,\n",
              "        2.76,  2.61,  2.65,  2.79,  2.54,  2.64,  2.45,  2.72,  2.69,\n",
              "        2.96,  2.58,  2.51,  2.56,  2.55,  2.87,  3.57,  3.52,  3.5 ,\n",
              "        3.56,  3.72,  3.38,  3.4 ,  4.07,  3.66,  3.65,  3.58,  3.59,\n",
              "        3.63,  3.69,  3.61,  3.6 ,  3.35,  3.67,  3.62,  3.87,  3.68,\n",
              "        3.49,  3.47,  3.46,  3.7 ,  3.32,  3.93,  3.95,  3.64,  3.53,\n",
              "        3.37,  3.43,  3.51,  3.54,  3.48,  3.55,  3.33,  3.3 ,  4.13,\n",
              "        3.79,  3.24,  3.23,  4.08,  3.19,  3.94,  3.08,  3.31,  3.21,\n",
              "        3.75,  3.18,  3.41,  4.03,  4.09,  3.22,  4.18,  3.76,  3.83,\n",
              "        3.17,  3.44,  3.74,  3.8 ,  3.39,  3.88,  4.  ,  3.98,  3.85,\n",
              "        3.96,  3.16,  3.78,  3.84,  4.33,  4.01,  3.45,  2.74,  2.95,\n",
              "        2.8 ,  2.77,  2.9 ,  2.82,  3.77,  3.9 ,  3.73,  3.34,  3.86,\n",
              "        3.89,  3.81,  3.42,  3.71,  3.91,  3.2 ,  3.1 ,  4.06,  3.97,\n",
              "        4.02,  4.2 ,  4.11,  3.99,  4.23,  3.27,  3.92,  4.15,  2.83,\n",
              "        2.81,  4.04,  3.82,  4.21,  4.1 ,  4.26,  4.29,  3.26,  2.88,\n",
              "        2.5 ,  4.16,  4.14,  4.12,  3.25,  4.7 ,  4.19,  3.13,  4.05,\n",
              "        4.27,  4.34,  3.14,  2.97,  4.17,  3.36,  4.42,  4.28,  4.38,\n",
              "        3.29,  0.  ,  4.25,  4.78,  2.99,  2.57,  2.84,  4.22,  2.6 ,\n",
              "        3.15,  4.32,  4.3 ,  2.85,  3.01,  3.28,  4.63,  4.65,  3.12,\n",
              "        4.52,  4.47,  2.89,  4.24,  4.49,  4.57,  4.36,  4.8 ,  4.76,\n",
              "        2.94,  4.66,  4.54,  4.56,  4.62,  4.37,  4.46,  4.31,  2.91,\n",
              "        4.5 ,  4.39,  4.4 ,  4.55,  2.86,  2.35,  2.93,  4.41,  4.51,\n",
              "        4.45,  4.72,  4.48,  2.98,  4.75,  4.64,  4.84,  2.92,  4.87,\n",
              "        4.35,  4.53,  4.44,  4.6 ,  4.81,  4.68,  4.82,  3.  ,  4.58,\n",
              "        4.97,  5.12,  4.59,  4.61,  4.95,  4.98,  4.79,  4.43,  5.36,\n",
              "        2.36,  5.23,  5.04,  4.74,  5.1 ,  4.92,  5.17,  4.71,  5.43,\n",
              "        1.07,  5.29,  4.67,  5.07,  5.19,  4.93,  5.15,  4.73,  5.08,\n",
              "        5.06,  5.45,  4.85,  5.27,  4.69,  5.18,  5.16,  4.94,  4.77,\n",
              "        5.25,  5.77,  5.02,  5.14,  5.44,  5.24,  4.99,  5.41,  5.58,\n",
              "        5.76,  5.22,  5.31,  5.09,  5.28,  5.47,  5.01,  5.  ,  4.91,\n",
              "        4.88,  5.32,  4.89,  5.67,  5.97,  5.33,  5.2 ,  4.83,  5.53,\n",
              "        5.37,  5.65,  1.53,  4.9 ,  5.21,  5.05,  5.11,  5.35,  1.41,\n",
              "        4.96,  5.98,  5.03,  5.73,  4.86,  5.6 ,  5.56,  5.66,  5.26,\n",
              "        5.91,  3.04,  5.3 ,  5.79,  5.13,  6.38,  5.49,  5.34,  8.06,\n",
              "        5.85,  5.57,  5.92,  6.03,  3.02,  5.48,  5.62,  5.46,  3.03,\n",
              "        5.55,  5.39,  5.5 ,  6.17,  6.24,  5.75,  6.16,  5.51,  6.27,\n",
              "        6.31,  5.69,  6.13,  5.54,  5.86,  5.38,  5.72,  5.4 ,  5.61,\n",
              "        6.43,  5.52,  5.42,  6.98,  5.9 ,  6.72,  5.64,  5.59,  3.06,\n",
              "        3.05,  3.07,  3.09,  3.11,  2.26,  2.24,  2.32,  2.28,  2.3 ,\n",
              "        2.38,  2.34,  2.29,  2.06,  2.25, 31.8 ])"
            ]
          },
          "metadata": {},
          "execution_count": 14
        }
      ]
    },
    {
      "cell_type": "markdown",
      "source": [
        "## (h)"
      ],
      "metadata": {
        "id": "pBNzsxAmOVyi"
      }
    },
    {
      "cell_type": "code",
      "source": [
        "%matplotlib inline\n",
        "histogram = df_diamonds.hist()\n",
        "print(histogram)"
      ],
      "metadata": {
        "colab": {
          "base_uri": "https://localhost:8080/",
          "height": 437
        },
        "id": "4tGzZ3IxN0ow",
        "outputId": "7311dcdc-3553-40fa-fb3f-93ce8eaec673"
      },
      "execution_count": 15,
      "outputs": [
        {
          "output_type": "stream",
          "name": "stdout",
          "text": [
            "[[<matplotlib.axes._subplots.AxesSubplot object at 0x7f6033ca8b50>\n",
            "  <matplotlib.axes._subplots.AxesSubplot object at 0x7f6027881390>\n",
            "  <matplotlib.axes._subplots.AxesSubplot object at 0x7f602783d950>]\n",
            " [<matplotlib.axes._subplots.AxesSubplot object at 0x7f60277f3f50>\n",
            "  <matplotlib.axes._subplots.AxesSubplot object at 0x7f6027776590>\n",
            "  <matplotlib.axes._subplots.AxesSubplot object at 0x7f602772cb90>]\n",
            " [<matplotlib.axes._subplots.AxesSubplot object at 0x7f60276f1250>\n",
            "  <matplotlib.axes._subplots.AxesSubplot object at 0x7f60276a6790>\n",
            "  <matplotlib.axes._subplots.AxesSubplot object at 0x7f60276a67d0>]]\n"
          ]
        },
        {
          "output_type": "display_data",
          "data": {
            "text/plain": [
              "<Figure size 432x288 with 9 Axes>"
            ],
            "image/png": "[encoded data removed]"
          },
          "metadata": {
            "needs_background": "light"
          }
        }
      ]
    }
  ]
}